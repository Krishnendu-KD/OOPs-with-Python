{
 "cells": [
  {
   "cell_type": "markdown",
   "metadata": {},
   "source": [
    "<h2 align=\"center\">Object Oriented Programming with Python</h2>"
   ]
  },
  {
   "cell_type": "markdown",
   "metadata": {},
   "source": [
    "### **Class & Objects**<br>\n",
    "- **Objects:** The object is an entity that has a attributes and behavior(methods) associated with it\n",
    "- **Class:** A class is a blueprint that defines the variables and the methods (Characteristics) common to all objects of a certain kind"
   ]
  },
  {
   "cell_type": "code",
   "execution_count": 13,
   "metadata": {},
   "outputs": [
    {
     "name": "stdout",
     "output_type": "stream",
     "text": [
      "<__main__.ClassName object at 0x000001FD1A025DF0>\n"
     ]
    }
   ],
   "source": [
    "class ClassName:                     # Class \n",
    "    pass\n",
    "objectname=ClassName()               # Declaring object of ClassName class\n",
    "print(objectname)"
   ]
  },
  {
   "cell_type": "markdown",
   "metadata": {},
   "source": [
    "### **Constructor**<br>\n",
    "Constructors are generally used for instantiating an object.The task of constructors is to initialize(assign values) to the data members of the class when an object of class is created.\n",
    "**A constructor is a special type of method (function) which is used to initialize the instance members of the class.**"
   ]
  },
  {
   "cell_type": "markdown",
   "metadata": {},
   "source": [
    "In Python the **__init__()** method is called the constructor and is always called when an object is created.<br>\n",
    "Types of constructors :<br>\n",
    "- ***Default constructor :***The default constructor is simple constructor which doesn’t accept any arguments.It’s definition has only one argument which is a reference to the instance being constructed.\n",
    "- ***Parameterized constructor :***constructor with parameters is known as parameterized constructor.The parameterized constructor take its first argument as a reference to the instance being constructed known as self and the rest of the arguments are provided by the programmer."
   ]
  },
  {
   "cell_type": "code",
   "execution_count": 14,
   "metadata": {},
   "outputs": [
    {
     "name": "stdout",
     "output_type": "stream",
     "text": [
      "Python\n"
     ]
    }
   ],
   "source": [
    "## Default Constructor\n",
    "\n",
    "class ClassExample:\n",
    "    def __init__(self):                        # Default constructor\n",
    "        self.variable = \"Python\"\n",
    "\n",
    "    def show(self):                            # Defining instance method\n",
    "        print(self.variable)\n",
    "  \n",
    "obj = ClassExample()\n",
    "\n",
    "obj.show()                                     # calling the instance method using the object obj"
   ]
  },
  {
   "cell_type": "code",
   "execution_count": 15,
   "metadata": {},
   "outputs": [
    {
     "data": {
      "text/plain": [
       "'krishnendudey@gmail.com'"
      ]
     },
     "execution_count": 15,
     "metadata": {},
     "output_type": "execute_result"
    }
   ],
   "source": [
    "## Parameterized Conctructor\n",
    "\n",
    "class Student:\n",
    "    var=9\n",
    "    def __init__(self,name,title):              # Parameterized constructor\n",
    "        self.name=name\n",
    "        self.title=title\n",
    "\n",
    "    def eMail(self):\n",
    "        return self.name.lower()+self.title.lower()+\"@gmail.com\"\n",
    "        \n",
    "s1=Student(\"krishnendu\",\"Dey\")\n",
    "s1.eMail()"
   ]
  },
  {
   "cell_type": "markdown",
   "metadata": {},
   "source": [
    "### **Attributes and Methods**<br>\n",
    "- **Attributes :** Attributes are the features of the objects or the variables used in a class\n",
    "- **Methods:** Whereas the methods are the operations or activities performed by that object defined as functions in the class<br>\n",
    "\n",
    "Analogy : For a class Animal, dog is an object representing a creature among the Animal universe.Every animal has a color so it's an attribute of the class.\n"
   ]
  },
  {
   "cell_type": "code",
   "execution_count": 16,
   "metadata": {},
   "outputs": [
    {
     "data": {
      "text/plain": [
       "\"The animal is a Dog and it's color is White\""
      ]
     },
     "execution_count": 16,
     "metadata": {},
     "output_type": "execute_result"
    }
   ],
   "source": [
    "class Animal(object):\n",
    "    def __init__(self,name,color):\n",
    "        '''name and color are the two attributes of the class Animal'''\n",
    "        \n",
    "        self.name=name\n",
    "        self.color=color  \n",
    "        \n",
    "    def show(self):\n",
    "        '''show() is the method of the class Animal'''\n",
    "        \n",
    "        return \"The animal is a {} and it's color is {}\".format(self.name,self.color)\n",
    "    \n",
    "    \n",
    "dog=Animal('Dog','White')\n",
    "dog.show()\n",
    "        "
   ]
  }
 ],
 "metadata": {
  "kernelspec": {
   "display_name": "Python 3",
   "language": "python",
   "name": "python3"
  },
  "language_info": {
   "codemirror_mode": {
    "name": "ipython",
    "version": 3
   },
   "file_extension": ".py",
   "mimetype": "text/x-python",
   "name": "python",
   "nbconvert_exporter": "python",
   "pygments_lexer": "ipython3",
   "version": "3.8.5"
  }
 },
 "nbformat": 4,
 "nbformat_minor": 4
}
