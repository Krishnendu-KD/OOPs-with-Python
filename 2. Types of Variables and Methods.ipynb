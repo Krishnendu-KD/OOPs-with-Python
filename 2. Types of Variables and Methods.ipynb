{
 "cells": [
  {
   "cell_type": "markdown",
   "metadata": {},
   "source": [
    "<h2 align=\"center\">Object Oriented Programming with Python</h2>"
   ]
  },
  {
   "cell_type": "markdown",
   "metadata": {},
   "source": [
    "### **Hidden Objects**"
   ]
  },
  {
   "cell_type": "code",
   "execution_count": 10,
   "metadata": {},
   "outputs": [
    {
     "name": "stdout",
     "output_type": "stream",
     "text": [
      "HELLO\n",
      "<class 'int'> <class 'str'>\n"
     ]
    }
   ],
   "source": [
    "x=1                              # x = object of type int with value 1\n",
    "y=\"Hello\"                        # y = object of type String with value \"Hello\"\n",
    "print(y.upper())                 # .upper()= a method of the string type object y\n",
    "print(type(x),type(y))           # Everything in python is in the form of object(Hidden Objects)"
   ]
  },
  {
   "cell_type": "code",
   "execution_count": 11,
   "metadata": {},
   "outputs": [
    {
     "name": "stdout",
     "output_type": "stream",
     "text": [
      "506\n",
      "506\n"
     ]
    }
   ],
   "source": [
    "a=\"50\"\n",
    "b=\"6\"\n",
    "print(a+b)\n",
    "print(str.__add__(a,b))       # str is an object and __add__() is the method, used to concatinate string datas\n",
    "#print(int.__add__(a,b))       # int is an object and __add__() is the method, used to calculate the sum of numerical datas\n",
    "# so the above operation will give TypeError as a and b are string data type and int data was expected"
   ]
  },
  {
   "cell_type": "code",
   "execution_count": 12,
   "metadata": {},
   "outputs": [
    {
     "name": "stdout",
     "output_type": "stream",
     "text": [
      "56\n",
      "56\n"
     ]
    }
   ],
   "source": [
    "a=50\n",
    "b=6\n",
    "print(a+b)\n",
    "print(int.__add__(a,b))        # int is an object and __add__() is the method, used to calculate the sum of numerical datas\n",
    "#print(str.__add__(a,b))       # str is an object and __add__() is the method, used to concatinate string datas\n",
    "# so the above operation will give TypeError as a and b are int data type and string data was expected"
   ]
  },
  {
   "cell_type": "markdown",
   "metadata": {},
   "source": [
    "### **Type of variables and methods**"
   ]
  },
  {
   "cell_type": "markdown",
   "metadata": {},
   "source": [
    "#### Type of variables:\n",
    "\n",
    "- **Class Variable:** Class variables share the same value among all instances of the class\n",
    "- **Instance Variable:** The value of instance variables can differ across each instance of a class\n",
    "- **Local Variable:** Variables defined inside methods, constructors or blocks are called local variables. The variable will be declared and initialized within the method and it will be destroyed when the method has completed"
   ]
  },
  {
   "cell_type": "markdown",
   "metadata": {},
   "source": [
    "#### Type of Methods:"
   ]
  },
  {
   "cell_type": "markdown",
   "metadata": {},
   "source": [
    "**Instance Method:**"
   ]
  },
  {
   "cell_type": "code",
   "execution_count": 14,
   "metadata": {},
   "outputs": [
    {
     "data": {
      "text/plain": [
       "'krishnendu23@gmail.com'"
      ]
     },
     "execution_count": 14,
     "metadata": {},
     "output_type": "execute_result"
    }
   ],
   "source": [
    "class Student:\n",
    "    def __init__(self,name,age):              # Parameterized constructor\n",
    "        self.name=name                        # Instance variable name\n",
    "        self.age=age                          # Instance variable age\n",
    "\n",
    "    def eMail(self):                          # Instance method eMail()\n",
    "        '''instance method: Uses the instance variables'''\n",
    "        return self.name.lower()+str(self.age).lower()+\"@gmail.com\"\n",
    "        \n",
    "s1=Student(\"krishnendu\",23)\n",
    "s1.eMail()"
   ]
  },
  {
   "cell_type": "markdown",
   "metadata": {},
   "source": [
    "**Class Method:**"
   ]
  },
  {
   "cell_type": "code",
   "execution_count": 20,
   "metadata": {},
   "outputs": [
    {
     "data": {
      "text/plain": [
       "81"
      ]
     },
     "execution_count": 20,
     "metadata": {},
     "output_type": "execute_result"
    }
   ],
   "source": [
    "class Student:\n",
    "    var=9                                     # Class variable\n",
    "    \n",
    "    @classmethod                              # classmethod Decorator \n",
    "    def square(cls):                          # Class method square()\n",
    "        '''Class method: Uses the class variabls'''\n",
    "        return (cls.var)**2\n",
    "        \n",
    "s1=Student()\n",
    "s1.square()"
   ]
  },
  {
   "cell_type": "markdown",
   "metadata": {},
   "source": [
    "**Static Method:**"
   ]
  },
  {
   "cell_type": "code",
   "execution_count": 19,
   "metadata": {},
   "outputs": [
    {
     "data": {
      "text/plain": [
       "5"
      ]
     },
     "execution_count": 19,
     "metadata": {},
     "output_type": "execute_result"
    }
   ],
   "source": [
    "class Student:\n",
    "    \n",
    "    @staticmethod                             # Staticmethod Decorator\n",
    "    def add(a,b):                             # Static Method add()\n",
    "        '''Static method : Works with local variables'''\n",
    "        m=a                                   # m=local variable\n",
    "        n=b                                   # n=local variable\n",
    "        return m+n\n",
    "        \n",
    "s1=Student()\n",
    "s1.add(2,3)"
   ]
  }
 ],
 "metadata": {
  "kernelspec": {
   "display_name": "Python 3",
   "language": "python",
   "name": "python3"
  },
  "language_info": {
   "codemirror_mode": {
    "name": "ipython",
    "version": 3
   },
   "file_extension": ".py",
   "mimetype": "text/x-python",
   "name": "python",
   "nbconvert_exporter": "python",
   "pygments_lexer": "ipython3",
   "version": "3.8.5"
  }
 },
 "nbformat": 4,
 "nbformat_minor": 4
}
