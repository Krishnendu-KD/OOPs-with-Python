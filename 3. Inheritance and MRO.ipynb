{
 "cells": [
  {
   "cell_type": "markdown",
   "metadata": {},
   "source": [
    "<h2 align=\"center\">Object Oriented Programming with Python</h2>"
   ]
  },
  {
   "cell_type": "markdown",
   "metadata": {},
   "source": [
    "**Multilevel Inheritance**<br>\n",
    "Multilevel Inheritance is an Inheritance type that inherits from a derived class, making that derived class a base class for a new class."
   ]
  },
  {
   "cell_type": "code",
   "execution_count": 12,
   "metadata": {},
   "outputs": [
    {
     "name": "stdout",
     "output_type": "stream",
     "text": [
      "f1 is working\n",
      "f1 is working\n",
      "f2 is working\n",
      "f1 is working\n",
      "f2 is working\n",
      "f3 is working\n"
     ]
    }
   ],
   "source": [
    "class A:                            \n",
    "    def f1(self):\n",
    "        return 'f1 is working'\n",
    "a=A()\n",
    "print(a.f1())\n",
    "\n",
    "class B(A):            # Declaring class B as the sub-class of super class A\n",
    "    def f2(self):\n",
    "        return 'f2 is working'\n",
    "b=B()\n",
    "print(b.f1())\n",
    "print(b.f2())\n",
    "\n",
    "\n",
    "class C(B):           # Declaring class c as the sub-class of super class B\n",
    "    def f3(self):\n",
    "        return 'f3 is working'\n",
    "\n",
    "c=C()\n",
    "print(c.f1())\n",
    "print(c.f2())\n",
    "print(c.f3()) "
   ]
  },
  {
   "cell_type": "markdown",
   "metadata": {},
   "source": [
    "**Multiple Inheritance**<br>\n",
    "Multiple Inheritance is an Inheritance type where a class inherits from more than one base class"
   ]
  },
  {
   "cell_type": "code",
   "execution_count": 13,
   "metadata": {},
   "outputs": [
    {
     "name": "stdout",
     "output_type": "stream",
     "text": [
      "f4 is working\n",
      "f5 is working\n",
      "f6 is working\n"
     ]
    }
   ],
   "source": [
    "class X:\n",
    "    def f4(self):\n",
    "        return 'f4 is working'\n",
    "x=X()\n",
    "\n",
    "class Y:\n",
    "    def f5(self):\n",
    "        return 'f5 is working'\n",
    "y=Y()\n",
    "\n",
    "class Z(X,Y):             # class Z inherits class X and class Y both\n",
    "    def f6(self):\n",
    "        return 'f6 is working'\n",
    "z=Z()\n",
    "print(z.f4())\n",
    "print(z.f5())\n",
    "print(z.f6())"
   ]
  },
  {
   "cell_type": "markdown",
   "metadata": {},
   "source": [
    "**METHOD RESOLUTION ORDER(MRO)**<br>\n",
    "\n",
    "When both class X & class Y have same attribute ie name,then Due to \"Method Resolution Order(MRO)\" Python starts to look for that attribute by order it has been defined.<br>\n",
    "In class Z(X,Y) : Python will look for the name attribute starting from class Z > class X > class Y.<br>\n",
    "Same is the case for class W(Y,X), the look up starts from class W>class Y>class X"
   ]
  },
  {
   "cell_type": "code",
   "execution_count": 11,
   "metadata": {},
   "outputs": [
    {
     "name": "stdout",
     "output_type": "stream",
     "text": [
      "class X\n",
      "(<class '__main__.Z'>, <class '__main__.X'>, <class '__main__.Y'>, <class 'object'>)\n",
      "class Y\n",
      "(<class '__main__.W'>, <class '__main__.Y'>, <class '__main__.X'>, <class 'object'>)\n",
      "Class K\n",
      "(<class '__main__.K'>, <class '__main__.X'>, <class '__main__.Y'>, <class 'object'>)\n"
     ]
    }
   ],
   "source": [
    "class X:\n",
    "    def __init__(self):\n",
    "        self.name=\"class X\"\n",
    "\n",
    "class Y:\n",
    "    def __init__(self):\n",
    "        self.name=\"class Y\"\n",
    "\n",
    "class Z(X,Y):\n",
    "    '''class Z inherits class X and class Y'''\n",
    "    def show(self):\n",
    "        return self.name\n",
    "\n",
    "class W(Y,X):\n",
    "    '''class W inherits class Y and class X'''\n",
    "    def show(self):\n",
    "        return self.name\n",
    "    \n",
    "class K(X,Y):\n",
    "    '''class K inherits class X and class Y'''\n",
    "    def show(self):\n",
    "        self.name=\"Class K\"\n",
    "        return self.name\n",
    "    \n",
    "    \n",
    "z=Z()\n",
    "print(z.show())\n",
    "print(Z.__mro__)\n",
    "\n",
    "w=W()\n",
    "print(w.show())\n",
    "print(W.__mro__)\n",
    "\n",
    "k=K()\n",
    "print(k.show())\n",
    "print(K.__mro__)"
   ]
  },
  {
   "cell_type": "code",
   "execution_count": null,
   "metadata": {},
   "outputs": [],
   "source": []
  }
 ],
 "metadata": {
  "kernelspec": {
   "display_name": "Python 3",
   "language": "python",
   "name": "python3"
  },
  "language_info": {
   "codemirror_mode": {
    "name": "ipython",
    "version": 3
   },
   "file_extension": ".py",
   "mimetype": "text/x-python",
   "name": "python",
   "nbconvert_exporter": "python",
   "pygments_lexer": "ipython3",
   "version": "3.8.5"
  }
 },
 "nbformat": 4,
 "nbformat_minor": 4
}
