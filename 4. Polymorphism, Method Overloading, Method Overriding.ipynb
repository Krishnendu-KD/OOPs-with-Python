{
 "cells": [
  {
   "cell_type": "markdown",
   "metadata": {},
   "source": [
    "<h2 align=\"center\">Object Oriented Programming with Python</h2>"
   ]
  },
  {
   "cell_type": "markdown",
   "metadata": {},
   "source": [
    "### Polymorphism\n",
    "Poly=Many, Morph=Forms.The word polymorphism means having many forms."
   ]
  },
  {
   "cell_type": "code",
   "execution_count": 18,
   "metadata": {},
   "outputs": [
    {
     "name": "stdout",
     "output_type": "stream",
     "text": [
      "5\n",
      "3\n"
     ]
    }
   ],
   "source": [
    "# len() being used for a string\n",
    "print(len(\"geeks\"))\n",
    " \n",
    "# len() being used for a list\n",
    "print(len([10, 20, 30]))"
   ]
  },
  {
   "cell_type": "markdown",
   "metadata": {},
   "source": [
    "***Example 1.0***<br>\n",
    "User defined Polymorphism function"
   ]
  },
  {
   "cell_type": "code",
   "execution_count": 19,
   "metadata": {},
   "outputs": [
    {
     "name": "stdout",
     "output_type": "stream",
     "text": [
      "5\n",
      "9\n"
     ]
    }
   ],
   "source": [
    "def add(x, y, z = 0):\n",
    "    return x + y+ z\n",
    " \n",
    "# Driver code\n",
    "print(add(2, 3))\n",
    "print(add(2, 3, 4))"
   ]
  },
  {
   "cell_type": "markdown",
   "metadata": {},
   "source": [
    "***Example 2.0***<br>\n",
    "Polymorphic Classes:<br>"
   ]
  },
  {
   "cell_type": "code",
   "execution_count": 20,
   "metadata": {},
   "outputs": [
    {
     "name": "stdout",
     "output_type": "stream",
     "text": [
      "Area of square:  25\n",
      "Area of triangle:  10.0\n"
     ]
    }
   ],
   "source": [
    "class Square:\n",
    "    side = 5     \n",
    "    def calculate_area_sq(self):\n",
    "        return self.side * self.side\n",
    "\n",
    "class Triangle:\n",
    "    base = 5\n",
    "    height = 4\n",
    "    def calculate_area_tri(self):\n",
    "        return 0.5 * self.base * self.height\n",
    "\n",
    "sq = Square()\n",
    "tri = Triangle()\n",
    "print(\"Area of square: \", sq.calculate_area_sq())\n",
    "print(\"Area of triangle: \", tri.calculate_area_tri())"
   ]
  },
  {
   "cell_type": "markdown",
   "metadata": {},
   "source": [
    "The problem with the above approach is that the developer has to remember the name of each function separately. In a much larger program, it is very difficult to memorize the name of the functions for every small operation. Here comes the role of method overloading."
   ]
  },
  {
   "cell_type": "code",
   "execution_count": 21,
   "metadata": {},
   "outputs": [
    {
     "name": "stdout",
     "output_type": "stream",
     "text": [
      "Area of square:  25\n",
      "Area of triangle:  10.0\n"
     ]
    }
   ],
   "source": [
    "class Square:\n",
    "    side = 5     \n",
    "    def calculate_area(self):\n",
    "        return self.side * self.side\n",
    "\n",
    "class Triangle:\n",
    "    base = 5\n",
    "    height = 4\n",
    "    def calculate_area(self):\n",
    "        return 0.5 * self.base * self.height\n",
    "\n",
    "sq = Square()\n",
    "tri = Triangle()\n",
    "print(\"Area of square: \", sq.calculate_area())\n",
    "print(\"Area of triangle: \", tri.calculate_area())"
   ]
  },
  {
   "cell_type": "code",
   "execution_count": null,
   "metadata": {},
   "outputs": [],
   "source": []
  },
  {
   "cell_type": "markdown",
   "metadata": {},
   "source": [
    "### Overloading"
   ]
  },
  {
   "cell_type": "markdown",
   "metadata": {},
   "source": [
    "**1. Method Overloading**<br>\n",
    "Overloading is a method or operator that can do different functionalities with the same name.<br>Methods in Python can be called with zero, one, or more parameters. This process of calling the same method in different ways is called method overloading. "
   ]
  },
  {
   "cell_type": "markdown",
   "metadata": {},
   "source": [
    "***Example 1.0***"
   ]
  },
  {
   "cell_type": "code",
   "execution_count": 13,
   "metadata": {},
   "outputs": [],
   "source": [
    "# Python doesnot support the concept of Method Overloading\n",
    "class A:\n",
    "    def sum(self,a,b):\n",
    "        print(a+b)\n",
    "    def sum(self,a,b,c):\n",
    "        print(a+b+c)\n",
    "        \n",
    "a=A()\n"
   ]
  },
  {
   "cell_type": "code",
   "execution_count": 14,
   "metadata": {},
   "outputs": [
    {
     "ename": "TypeError",
     "evalue": "sum() missing 1 required positional argument: 'c'",
     "output_type": "error",
     "traceback": [
      "\u001b[1;31m---------------------------------------------------------------------------\u001b[0m",
      "\u001b[1;31mTypeError\u001b[0m                                 Traceback (most recent call last)",
      "\u001b[1;32m<ipython-input-14-279703347877>\u001b[0m in \u001b[0;36m<module>\u001b[1;34m\u001b[0m\n\u001b[1;32m----> 1\u001b[1;33m \u001b[0ma\u001b[0m\u001b[1;33m.\u001b[0m\u001b[0msum\u001b[0m\u001b[1;33m(\u001b[0m\u001b[1;36m2\u001b[0m\u001b[1;33m,\u001b[0m\u001b[1;36m3\u001b[0m\u001b[1;33m)\u001b[0m              \u001b[1;31m# Gives error as the sum() method has 3 parameters in the last declaration\u001b[0m\u001b[1;33m\u001b[0m\u001b[1;33m\u001b[0m\u001b[0m\n\u001b[0m",
      "\u001b[1;31mTypeError\u001b[0m: sum() missing 1 required positional argument: 'c'"
     ]
    }
   ],
   "source": [
    "a.sum(2,3)              # Gives error as the sum() method has 3 parameters in the last declaration"
   ]
  },
  {
   "cell_type": "code",
   "execution_count": 15,
   "metadata": {},
   "outputs": [
    {
     "name": "stdout",
     "output_type": "stream",
     "text": [
      "10\n"
     ]
    }
   ],
   "source": [
    "a.sum(2,3,5)            # Python considersthe latest defined sum function to execute"
   ]
  },
  {
   "cell_type": "code",
   "execution_count": 24,
   "metadata": {},
   "outputs": [
    {
     "name": "stdout",
     "output_type": "stream",
     "text": [
      "10\n",
      "5\n"
     ]
    }
   ],
   "source": [
    "# To execute the desired result\n",
    "class K:\n",
    "    def sum(self,a=None,b=None,c=None):\n",
    "        if a!=None and b!=None and c!=None:\n",
    "            print(a+b+c)\n",
    "        elif a!=None and b!=None:\n",
    "            print(a+b)\n",
    "k=K()\n",
    "k.sum(2,3,5)\n",
    "k.sum(2,3)"
   ]
  },
  {
   "cell_type": "markdown",
   "metadata": {},
   "source": [
    "***Example 2.0***"
   ]
  },
  {
   "cell_type": "code",
   "execution_count": 28,
   "metadata": {},
   "outputs": [
    {
     "name": "stdout",
     "output_type": "stream",
     "text": [
      "Hello \n",
      "Hello XYZ\n"
     ]
    }
   ],
   "source": [
    "class A:\n",
    "    def printName(self, name=None):\n",
    "        if name is not None:\n",
    "            print('Hello ' + name)\n",
    "        else:\n",
    "            print('Hello ')\n",
    "            \n",
    "\n",
    "obj = A()\n",
    "    \n",
    "obj.printName()\n",
    "obj.printName('XYZ')"
   ]
  },
  {
   "cell_type": "markdown",
   "metadata": {},
   "source": [
    "***Example 3.0***"
   ]
  },
  {
   "cell_type": "code",
   "execution_count": 26,
   "metadata": {},
   "outputs": [
    {
     "name": "stdout",
     "output_type": "stream",
     "text": [
      "only method\n",
      "only method\n"
     ]
    }
   ],
   "source": [
    "class A:\n",
    "\n",
    "    def overloading(self, i='Default value'):\n",
    "        print ('only method')\n",
    "\n",
    "ob=A()\n",
    "ob.overloading(5)\n",
    "ob.overloading()"
   ]
  },
  {
   "cell_type": "code",
   "execution_count": null,
   "metadata": {},
   "outputs": [],
   "source": []
  },
  {
   "cell_type": "markdown",
   "metadata": {},
   "source": [
    "**2. Operator Overloading**<br>\n",
    "Operator Overloading means giving extended meaning beyond their predefined operational meaning.Operator overloading in Python is the ability of a single operator to perform more than one operation based on the class (type) of operands. For example operator + is used to add two integers as well as join two strings and merge two lists. It is achievable because ‘+’ operator is overloaded by int class and str class.<br>"
   ]
  },
  {
   "cell_type": "markdown",
   "metadata": {},
   "source": [
    "***Example 1.0***"
   ]
  },
  {
   "cell_type": "code",
   "execution_count": 27,
   "metadata": {},
   "outputs": [
    {
     "data": {
      "text/plain": [
       "5"
      ]
     },
     "execution_count": 27,
     "metadata": {},
     "output_type": "execute_result"
    }
   ],
   "source": [
    "2+3         # '+' operator is used to perform sum"
   ]
  },
  {
   "cell_type": "code",
   "execution_count": 29,
   "metadata": {},
   "outputs": [
    {
     "data": {
      "text/plain": [
       "'Hello World!'"
      ]
     },
     "execution_count": 29,
     "metadata": {},
     "output_type": "execute_result"
    }
   ],
   "source": [
    "\"Hello \"+\"World!\"    # '+' Operator is again used to perform concatenation"
   ]
  },
  {
   "cell_type": "markdown",
   "metadata": {},
   "source": [
    "***Example 2.0***"
   ]
  },
  {
   "cell_type": "code",
   "execution_count": 24,
   "metadata": {},
   "outputs": [
    {
     "name": "stdout",
     "output_type": "stream",
     "text": [
      "11\n"
     ]
    }
   ],
   "source": [
    "a=5\n",
    "b=6\n",
    "print(a+b)\n"
   ]
  },
  {
   "cell_type": "markdown",
   "metadata": {},
   "source": [
    "\n",
    "Here a and b are the objects of the class int. as int is the class so we got to have methods associated with it.Here we have a method called \"__add__\" and a and b are the arguments associated with it. "
   ]
  },
  {
   "cell_type": "code",
   "execution_count": 26,
   "metadata": {},
   "outputs": [
    {
     "data": {
      "text/plain": [
       "11"
      ]
     },
     "execution_count": 26,
     "metadata": {},
     "output_type": "execute_result"
    }
   ],
   "source": [
    "int.__add__(a,b)            "
   ]
  },
  {
   "cell_type": "markdown",
   "metadata": {},
   "source": [
    "***Example 3.0***"
   ]
  },
  {
   "cell_type": "markdown",
   "metadata": {},
   "source": [
    "**How to overload the operators in Python?**<br>\n",
    "To perform operator overloading, Python provides some special function or magic function that is automatically invoked when it is associated with that particular operator. For example, when we use + operator, the magic method __add__ is automatically invoked in which the operation for + operator is defined."
   ]
  },
  {
   "cell_type": "code",
   "execution_count": 42,
   "metadata": {},
   "outputs": [
    {
     "name": "stdout",
     "output_type": "stream",
     "text": [
      "3\n",
      "Hello World!\n"
     ]
    }
   ],
   "source": [
    "class A:\n",
    "    def __init__(self, a=0):\n",
    "        self.a = a\n",
    " \n",
    "    # adding two objects\n",
    "    def __add__(self, other):    # __add__ is a magic method\n",
    "        Sum=self.a + other.a\n",
    "        return Sum\n",
    "ob1 = A(1)\n",
    "ob2 = A(2)\n",
    "ob3 = A(\"Hello \")\n",
    "ob4 = A(\"World!\")\n",
    " \n",
    "print(ob1 + ob2)\n",
    "print(ob3 + ob4)"
   ]
  },
  {
   "cell_type": "markdown",
   "metadata": {},
   "source": [
    "### Overriding"
   ]
  },
  {
   "cell_type": "markdown",
   "metadata": {},
   "source": [
    "**Method Overriding**<br>\n",
    "Method overriding in Python is when you have two methods with the same name that each perform different tasks. This is an important feature of inheritance in Python,<br>\n",
    "There are two prerequisite conditions for Method overriding:<br>\n",
    "\n",
    "- Inheritance should be present in the code, method overriding cannot be performed in the same class, and overriding can only be executed when a child class is derived through inheritance.\n",
    "- The child class should have the same name and the same number of parameters as the parent class"
   ]
  },
  {
   "cell_type": "code",
   "execution_count": 48,
   "metadata": {
    "scrolled": true
   },
   "outputs": [
    {
     "name": "stdout",
     "output_type": "stream",
     "text": [
      "Function defined in parent class!\n",
      "Function defined in child class!\n"
     ]
    }
   ],
   "source": [
    "# parent class\n",
    "class Parent:\n",
    "   \n",
    "    def pritAnything(self):\n",
    "        print('Function defined in parent class!')\n",
    "        \n",
    "# child class\n",
    "class Child(Parent):\n",
    "    \n",
    "    def pritAnything(self):\n",
    "        print(\"Function defined in child class!\")\n",
    "\n",
    "\n",
    "obj1=Parent()\n",
    "obj1.pritAnything()        \n",
    "        \n",
    "obj2 = Child()\n",
    "obj2.pritAnything()\n"
   ]
  },
  {
   "attachments": {
    "image.png": {
     "image/png": "[encoded data removed]"
    }
   },
   "cell_type": "markdown",
   "metadata": {},
   "source": [
    "![image.png](attachment:image.png)"
   ]
  },
  {
   "cell_type": "markdown",
   "metadata": {},
   "source": []
  },
  {
   "cell_type": "markdown",
   "metadata": {},
   "source": [
    "***References:***\n",
    "- https://www.educative.io/edpresso/what-is-method-overloading-in-python\n",
    "- https://stackoverflow.com/questions/10202938/how-do-i-use-method-overloading-in-python\n",
    "- https://www.geeksforgeeks.org/python-method-overloading/\n",
    "- https://www.geeksforgeeks.org/operator-overloading-in-python/\n",
    "- https://www.faceprep.in/python/operator-overloading-in-python/\n",
    "- https://www.geeksforgeeks.org/polymorphism-in-python/\n",
    "- https://www.studytonight.com/python/python-polymorphism"
   ]
  },
  {
   "cell_type": "code",
   "execution_count": null,
   "metadata": {},
   "outputs": [],
   "source": []
  }
 ],
 "metadata": {
  "kernelspec": {
   "display_name": "Python 3",
   "language": "python",
   "name": "python3"
  },
  "language_info": {
   "codemirror_mode": {
    "name": "ipython",
    "version": 3
   },
   "file_extension": ".py",
   "mimetype": "text/x-python",
   "name": "python",
   "nbconvert_exporter": "python",
   "pygments_lexer": "ipython3",
   "version": "3.8.5"
  }
 },
 "nbformat": 4,
 "nbformat_minor": 4
}
